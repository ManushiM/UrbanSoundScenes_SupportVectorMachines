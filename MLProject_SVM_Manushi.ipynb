{
 "cells": [
  {
   "cell_type": "code",
   "execution_count": 1,
   "metadata": {
    "collapsed": true
   },
   "outputs": [],
   "source": [
    "#Importing libraries\n",
    "\n",
    "import numpy as np\n",
    "%matplotlib inline\n",
    "import pandas as pd\n",
    "import matplotlib.pyplot as plt\n",
    "import seaborn as sns\n",
    "from pylab import rcParams\n",
    "from sklearn import svm\n",
    "rcParams['figure.figsize'] = 8, 6"
   ]
  },
  {
   "cell_type": "code",
   "execution_count": 2,
   "metadata": {
    "collapsed": false
   },
   "outputs": [
    {
     "data": {
      "text/html": [
       "<div>\n",
       "<table border=\"1\" class=\"dataframe\">\n",
       "  <thead>\n",
       "    <tr style=\"text-align: right;\">\n",
       "      <th></th>\n",
       "      <th>Unnamed: 0</th>\n",
       "      <th>0</th>\n",
       "      <th>1</th>\n",
       "      <th>2</th>\n",
       "      <th>3</th>\n",
       "      <th>4</th>\n",
       "      <th>5</th>\n",
       "      <th>6</th>\n",
       "      <th>7</th>\n",
       "      <th>8</th>\n",
       "      <th>...</th>\n",
       "      <th>151</th>\n",
       "      <th>152</th>\n",
       "      <th>153</th>\n",
       "      <th>154</th>\n",
       "      <th>155</th>\n",
       "      <th>156</th>\n",
       "      <th>157</th>\n",
       "      <th>158</th>\n",
       "      <th>159</th>\n",
       "      <th>scenes</th>\n",
       "    </tr>\n",
       "  </thead>\n",
       "  <tbody>\n",
       "    <tr>\n",
       "      <th>0</th>\n",
       "      <td>0</td>\n",
       "      <td>0.659110</td>\n",
       "      <td>0.259060</td>\n",
       "      <td>0.848907</td>\n",
       "      <td>1.232900</td>\n",
       "      <td>0.690433</td>\n",
       "      <td>0.814238</td>\n",
       "      <td>2.048807</td>\n",
       "      <td>0.163775</td>\n",
       "      <td>-0.359654</td>\n",
       "      <td>...</td>\n",
       "      <td>-0.655091</td>\n",
       "      <td>-0.651263</td>\n",
       "      <td>-0.560520</td>\n",
       "      <td>-0.423375</td>\n",
       "      <td>-0.779534</td>\n",
       "      <td>-0.769999</td>\n",
       "      <td>-0.329391</td>\n",
       "      <td>-0.632257</td>\n",
       "      <td>-0.565350</td>\n",
       "      <td>bus</td>\n",
       "    </tr>\n",
       "    <tr>\n",
       "      <th>1</th>\n",
       "      <td>1</td>\n",
       "      <td>0.887682</td>\n",
       "      <td>1.164037</td>\n",
       "      <td>0.694511</td>\n",
       "      <td>0.719179</td>\n",
       "      <td>0.184981</td>\n",
       "      <td>-0.047482</td>\n",
       "      <td>1.817482</td>\n",
       "      <td>-0.463925</td>\n",
       "      <td>-0.948119</td>\n",
       "      <td>...</td>\n",
       "      <td>-0.131353</td>\n",
       "      <td>-0.510976</td>\n",
       "      <td>-0.388554</td>\n",
       "      <td>-0.782673</td>\n",
       "      <td>-0.426440</td>\n",
       "      <td>-0.384158</td>\n",
       "      <td>-0.222035</td>\n",
       "      <td>-0.628024</td>\n",
       "      <td>-0.408743</td>\n",
       "      <td>bus</td>\n",
       "    </tr>\n",
       "    <tr>\n",
       "      <th>2</th>\n",
       "      <td>2</td>\n",
       "      <td>1.246803</td>\n",
       "      <td>-0.326879</td>\n",
       "      <td>0.009353</td>\n",
       "      <td>0.755241</td>\n",
       "      <td>1.341334</td>\n",
       "      <td>-0.898195</td>\n",
       "      <td>-0.117060</td>\n",
       "      <td>0.497354</td>\n",
       "      <td>0.580539</td>\n",
       "      <td>...</td>\n",
       "      <td>1.298443</td>\n",
       "      <td>1.410093</td>\n",
       "      <td>2.044463</td>\n",
       "      <td>1.198536</td>\n",
       "      <td>1.808311</td>\n",
       "      <td>1.034222</td>\n",
       "      <td>0.829872</td>\n",
       "      <td>0.906161</td>\n",
       "      <td>0.934444</td>\n",
       "      <td>bus</td>\n",
       "    </tr>\n",
       "    <tr>\n",
       "      <th>3</th>\n",
       "      <td>3</td>\n",
       "      <td>1.155296</td>\n",
       "      <td>-0.048561</td>\n",
       "      <td>0.222940</td>\n",
       "      <td>0.901589</td>\n",
       "      <td>0.344102</td>\n",
       "      <td>0.504171</td>\n",
       "      <td>1.625438</td>\n",
       "      <td>-1.127245</td>\n",
       "      <td>-0.891104</td>\n",
       "      <td>...</td>\n",
       "      <td>0.660213</td>\n",
       "      <td>-0.130993</td>\n",
       "      <td>0.166873</td>\n",
       "      <td>-0.221204</td>\n",
       "      <td>-0.068705</td>\n",
       "      <td>-0.350421</td>\n",
       "      <td>0.150312</td>\n",
       "      <td>0.322868</td>\n",
       "      <td>0.234364</td>\n",
       "      <td>bus</td>\n",
       "    </tr>\n",
       "    <tr>\n",
       "      <th>4</th>\n",
       "      <td>4</td>\n",
       "      <td>0.369011</td>\n",
       "      <td>0.651106</td>\n",
       "      <td>1.115642</td>\n",
       "      <td>-0.791181</td>\n",
       "      <td>2.553240</td>\n",
       "      <td>-1.560783</td>\n",
       "      <td>-0.523261</td>\n",
       "      <td>1.630105</td>\n",
       "      <td>1.417551</td>\n",
       "      <td>...</td>\n",
       "      <td>1.526334</td>\n",
       "      <td>1.946811</td>\n",
       "      <td>1.118425</td>\n",
       "      <td>1.453799</td>\n",
       "      <td>1.241428</td>\n",
       "      <td>1.402963</td>\n",
       "      <td>1.672553</td>\n",
       "      <td>0.944840</td>\n",
       "      <td>0.773015</td>\n",
       "      <td>bus</td>\n",
       "    </tr>\n",
       "  </tbody>\n",
       "</table>\n",
       "<p>5 rows × 162 columns</p>\n",
       "</div>"
      ],
      "text/plain": [
       "   Unnamed: 0         0         1         2         3         4         5  \\\n",
       "0           0  0.659110  0.259060  0.848907  1.232900  0.690433  0.814238   \n",
       "1           1  0.887682  1.164037  0.694511  0.719179  0.184981 -0.047482   \n",
       "2           2  1.246803 -0.326879  0.009353  0.755241  1.341334 -0.898195   \n",
       "3           3  1.155296 -0.048561  0.222940  0.901589  0.344102  0.504171   \n",
       "4           4  0.369011  0.651106  1.115642 -0.791181  2.553240 -1.560783   \n",
       "\n",
       "          6         7         8   ...         151       152       153  \\\n",
       "0  2.048807  0.163775 -0.359654   ...   -0.655091 -0.651263 -0.560520   \n",
       "1  1.817482 -0.463925 -0.948119   ...   -0.131353 -0.510976 -0.388554   \n",
       "2 -0.117060  0.497354  0.580539   ...    1.298443  1.410093  2.044463   \n",
       "3  1.625438 -1.127245 -0.891104   ...    0.660213 -0.130993  0.166873   \n",
       "4 -0.523261  1.630105  1.417551   ...    1.526334  1.946811  1.118425   \n",
       "\n",
       "        154       155       156       157       158       159  scenes  \n",
       "0 -0.423375 -0.779534 -0.769999 -0.329391 -0.632257 -0.565350     bus  \n",
       "1 -0.782673 -0.426440 -0.384158 -0.222035 -0.628024 -0.408743     bus  \n",
       "2  1.198536  1.808311  1.034222  0.829872  0.906161  0.934444     bus  \n",
       "3 -0.221204 -0.068705 -0.350421  0.150312  0.322868  0.234364     bus  \n",
       "4  1.453799  1.241428  1.402963  1.672553  0.944840  0.773015     bus  \n",
       "\n",
       "[5 rows x 162 columns]"
      ]
     },
     "execution_count": 2,
     "metadata": {},
     "output_type": "execute_result"
    }
   ],
   "source": [
    "#Loading the labelled datasets\n",
    "\n",
    "train = pd.read_csv('training_dataset_scaled.csv')\n",
    "test = pd.read_csv('testing_dataset_scaled.csv')\n",
    "train.head()"
   ]
  },
  {
   "cell_type": "code",
   "execution_count": 3,
   "metadata": {
    "collapsed": false
   },
   "outputs": [
    {
     "data": {
      "text/html": [
       "<div>\n",
       "<table border=\"1\" class=\"dataframe\">\n",
       "  <thead>\n",
       "    <tr style=\"text-align: right;\">\n",
       "      <th></th>\n",
       "      <th>Unnamed: 0</th>\n",
       "      <th>0</th>\n",
       "      <th>1</th>\n",
       "      <th>2</th>\n",
       "      <th>3</th>\n",
       "      <th>4</th>\n",
       "      <th>5</th>\n",
       "      <th>6</th>\n",
       "      <th>7</th>\n",
       "      <th>8</th>\n",
       "      <th>9</th>\n",
       "    </tr>\n",
       "  </thead>\n",
       "  <tbody>\n",
       "    <tr>\n",
       "      <th>0</th>\n",
       "      <td>0</td>\n",
       "      <td>0.659110</td>\n",
       "      <td>0.259060</td>\n",
       "      <td>0.848907</td>\n",
       "      <td>1.232900</td>\n",
       "      <td>0.690433</td>\n",
       "      <td>0.814238</td>\n",
       "      <td>2.048807</td>\n",
       "      <td>0.163775</td>\n",
       "      <td>-0.359654</td>\n",
       "      <td>1.258600</td>\n",
       "    </tr>\n",
       "    <tr>\n",
       "      <th>1</th>\n",
       "      <td>1</td>\n",
       "      <td>0.887682</td>\n",
       "      <td>1.164037</td>\n",
       "      <td>0.694511</td>\n",
       "      <td>0.719179</td>\n",
       "      <td>0.184981</td>\n",
       "      <td>-0.047482</td>\n",
       "      <td>1.817482</td>\n",
       "      <td>-0.463925</td>\n",
       "      <td>-0.948119</td>\n",
       "      <td>1.184027</td>\n",
       "    </tr>\n",
       "    <tr>\n",
       "      <th>2</th>\n",
       "      <td>2</td>\n",
       "      <td>1.246803</td>\n",
       "      <td>-0.326879</td>\n",
       "      <td>0.009353</td>\n",
       "      <td>0.755241</td>\n",
       "      <td>1.341334</td>\n",
       "      <td>-0.898195</td>\n",
       "      <td>-0.117060</td>\n",
       "      <td>0.497354</td>\n",
       "      <td>0.580539</td>\n",
       "      <td>0.811553</td>\n",
       "    </tr>\n",
       "    <tr>\n",
       "      <th>3</th>\n",
       "      <td>3</td>\n",
       "      <td>1.155296</td>\n",
       "      <td>-0.048561</td>\n",
       "      <td>0.222940</td>\n",
       "      <td>0.901589</td>\n",
       "      <td>0.344102</td>\n",
       "      <td>0.504171</td>\n",
       "      <td>1.625438</td>\n",
       "      <td>-1.127245</td>\n",
       "      <td>-0.891104</td>\n",
       "      <td>1.743355</td>\n",
       "    </tr>\n",
       "    <tr>\n",
       "      <th>4</th>\n",
       "      <td>4</td>\n",
       "      <td>0.369011</td>\n",
       "      <td>0.651106</td>\n",
       "      <td>1.115642</td>\n",
       "      <td>-0.791181</td>\n",
       "      <td>2.553240</td>\n",
       "      <td>-1.560783</td>\n",
       "      <td>-0.523261</td>\n",
       "      <td>1.630105</td>\n",
       "      <td>1.417551</td>\n",
       "      <td>0.693929</td>\n",
       "    </tr>\n",
       "  </tbody>\n",
       "</table>\n",
       "</div>"
      ],
      "text/plain": [
       "   Unnamed: 0         0         1         2         3         4         5  \\\n",
       "0           0  0.659110  0.259060  0.848907  1.232900  0.690433  0.814238   \n",
       "1           1  0.887682  1.164037  0.694511  0.719179  0.184981 -0.047482   \n",
       "2           2  1.246803 -0.326879  0.009353  0.755241  1.341334 -0.898195   \n",
       "3           3  1.155296 -0.048561  0.222940  0.901589  0.344102  0.504171   \n",
       "4           4  0.369011  0.651106  1.115642 -0.791181  2.553240 -1.560783   \n",
       "\n",
       "          6         7         8         9  \n",
       "0  2.048807  0.163775 -0.359654  1.258600  \n",
       "1  1.817482 -0.463925 -0.948119  1.184027  \n",
       "2 -0.117060  0.497354  0.580539  0.811553  \n",
       "3  1.625438 -1.127245 -0.891104  1.743355  \n",
       "4 -0.523261  1.630105  1.417551  0.693929  "
      ]
     },
     "execution_count": 3,
     "metadata": {},
     "output_type": "execute_result"
    }
   ],
   "source": [
    "#Splitting to take the first 10 features only\n",
    "trainSet = train.iloc[:,:11]\n",
    "trainSet.head()"
   ]
  },
  {
   "cell_type": "code",
   "execution_count": 4,
   "metadata": {
    "collapsed": false
   },
   "outputs": [
    {
     "data": {
      "text/plain": [
       "array(['bus', 'busystreet', 'office', 'openairmarket', 'park',\n",
       "       'quietstreet', 'restaurant', 'supermarket', 'tube', 'tubestation'], dtype=object)"
      ]
     },
     "execution_count": 4,
     "metadata": {},
     "output_type": "execute_result"
    }
   ],
   "source": [
    "#Not required, just getting the names\n",
    "\n",
    "train.scenes.unique()"
   ]
  },
  {
   "cell_type": "code",
   "execution_count": 5,
   "metadata": {
    "collapsed": false
   },
   "outputs": [
    {
     "data": {
      "text/plain": [
       "0            bus\n",
       "1            bus\n",
       "2            bus\n",
       "3            bus\n",
       "4            bus\n",
       "5            bus\n",
       "6            bus\n",
       "7            bus\n",
       "8            bus\n",
       "9            bus\n",
       "10    busystreet\n",
       "11    busystreet\n",
       "12    busystreet\n",
       "13    busystreet\n",
       "14    busystreet\n",
       "Name: scenes, dtype: object"
      ]
     },
     "execution_count": 5,
     "metadata": {},
     "output_type": "execute_result"
    }
   ],
   "source": [
    "# Getting the corresponding Y scenes(text)\n",
    "\n",
    "Y_labels = train.scenes\n",
    "Y_labels[:15]"
   ]
  },
  {
   "cell_type": "code",
   "execution_count": 6,
   "metadata": {
    "collapsed": false
   },
   "outputs": [],
   "source": [
    "#The function that assigns numbers to our categories\n",
    "\n",
    "def numericLabels(x):\n",
    "     return {\n",
    "        ourLabels[0]: 1,\n",
    "        ourLabels[1]: 2,\n",
    "        ourLabels[2]: 3,\n",
    "        ourLabels[3]: 4,\n",
    "        ourLabels[4]: 5,\n",
    "        'unknown': 6,\n",
    "    }[x]"
   ]
  },
  {
   "cell_type": "code",
   "execution_count": 7,
   "metadata": {
    "collapsed": false
   },
   "outputs": [],
   "source": [
    "#The function that assigns numerical values to our labels\n",
    "ourLabels = ['tubestation', 'quietstreet', 'busystreet', 'restaurant', 'openairmarket']\n",
    "\n",
    "def manageLabels(labelsText, labelsNum):\n",
    "    i = 0;\n",
    "    while i < labelsText.size:\n",
    "        if labelsText[i] not in ourLabels:\n",
    "            labelsText.replace(labelsText[i],'unknown',inplace=True)\n",
    "        labelsNum[i] = numericLabels(labelsText[i])\n",
    "        i += 1\n"
   ]
  },
  {
   "cell_type": "code",
   "execution_count": 8,
   "metadata": {
    "collapsed": false
   },
   "outputs": [
    {
     "name": "stdout",
     "output_type": "stream",
     "text": [
      "0     6\n",
      "1     6\n",
      "2     6\n",
      "3     6\n",
      "4     6\n",
      "5     6\n",
      "6     6\n",
      "7     6\n",
      "8     6\n",
      "9     6\n",
      "10    3\n",
      "11    3\n",
      "12    3\n",
      "13    3\n",
      "14    3\n",
      "15    3\n",
      "16    3\n",
      "17    3\n",
      "18    3\n",
      "19    3\n",
      "Name: scenes, dtype: int64\n"
     ]
    },
    {
     "name": "stderr",
     "output_type": "stream",
     "text": [
      "c:\\Users\\ManushiM\\Anaconda\\lib\\site-packages\\ipykernel\\__main__.py:9: SettingWithCopyWarning: \n",
      "A value is trying to be set on a copy of a slice from a DataFrame\n",
      "\n",
      "See the caveats in the documentation: http://pandas.pydata.org/pandas-docs/stable/indexing.html#indexing-view-versus-copy\n"
     ]
    }
   ],
   "source": [
    "#Creating the labels based on what we have defined\n",
    "\n",
    "Y_train = Y_labels\n",
    "\n",
    "#Calling the function\n",
    "manageLabels(Y_labels, Y_train)\n",
    "\n",
    "#converting type of new series to int\n",
    "Y_train = Y_train.astype('int64')    \n",
    "print Y_train[:20]"
   ]
  },
  {
   "cell_type": "markdown",
   "metadata": {},
   "source": [
    "### Repeat for test data"
   ]
  },
  {
   "cell_type": "code",
   "execution_count": 9,
   "metadata": {
    "collapsed": false
   },
   "outputs": [
    {
     "data": {
      "text/html": [
       "<div>\n",
       "<table border=\"1\" class=\"dataframe\">\n",
       "  <thead>\n",
       "    <tr style=\"text-align: right;\">\n",
       "      <th></th>\n",
       "      <th>Unnamed: 0</th>\n",
       "      <th>0</th>\n",
       "      <th>1</th>\n",
       "      <th>2</th>\n",
       "      <th>3</th>\n",
       "      <th>4</th>\n",
       "      <th>5</th>\n",
       "      <th>6</th>\n",
       "      <th>7</th>\n",
       "      <th>8</th>\n",
       "      <th>9</th>\n",
       "    </tr>\n",
       "  </thead>\n",
       "  <tbody>\n",
       "    <tr>\n",
       "      <th>0</th>\n",
       "      <td>0</td>\n",
       "      <td>0.733453</td>\n",
       "      <td>0.582254</td>\n",
       "      <td>0.126417</td>\n",
       "      <td>0.751396</td>\n",
       "      <td>1.622253</td>\n",
       "      <td>-0.608438</td>\n",
       "      <td>-0.044094</td>\n",
       "      <td>-0.098294</td>\n",
       "      <td>0.465360</td>\n",
       "      <td>0.872339</td>\n",
       "    </tr>\n",
       "    <tr>\n",
       "      <th>1</th>\n",
       "      <td>1</td>\n",
       "      <td>0.522509</td>\n",
       "      <td>0.800588</td>\n",
       "      <td>1.130733</td>\n",
       "      <td>0.638843</td>\n",
       "      <td>0.942452</td>\n",
       "      <td>-0.160658</td>\n",
       "      <td>2.128617</td>\n",
       "      <td>0.127798</td>\n",
       "      <td>-1.001711</td>\n",
       "      <td>1.575629</td>\n",
       "    </tr>\n",
       "    <tr>\n",
       "      <th>2</th>\n",
       "      <td>2</td>\n",
       "      <td>0.610486</td>\n",
       "      <td>-0.116406</td>\n",
       "      <td>0.537865</td>\n",
       "      <td>1.196408</td>\n",
       "      <td>0.852673</td>\n",
       "      <td>0.506885</td>\n",
       "      <td>1.842118</td>\n",
       "      <td>-0.023128</td>\n",
       "      <td>-0.471656</td>\n",
       "      <td>1.095743</td>\n",
       "    </tr>\n",
       "    <tr>\n",
       "      <th>3</th>\n",
       "      <td>3</td>\n",
       "      <td>0.082561</td>\n",
       "      <td>-0.785761</td>\n",
       "      <td>1.779882</td>\n",
       "      <td>-0.713555</td>\n",
       "      <td>3.006020</td>\n",
       "      <td>-1.254973</td>\n",
       "      <td>-0.221439</td>\n",
       "      <td>1.573590</td>\n",
       "      <td>0.920522</td>\n",
       "      <td>1.054295</td>\n",
       "    </tr>\n",
       "    <tr>\n",
       "      <th>4</th>\n",
       "      <td>4</td>\n",
       "      <td>0.825421</td>\n",
       "      <td>0.098039</td>\n",
       "      <td>-0.328691</td>\n",
       "      <td>1.031062</td>\n",
       "      <td>0.139982</td>\n",
       "      <td>0.454129</td>\n",
       "      <td>1.460246</td>\n",
       "      <td>-1.331873</td>\n",
       "      <td>-0.646779</td>\n",
       "      <td>1.745628</td>\n",
       "    </tr>\n",
       "  </tbody>\n",
       "</table>\n",
       "</div>"
      ],
      "text/plain": [
       "   Unnamed: 0         0         1         2         3         4         5  \\\n",
       "0           0  0.733453  0.582254  0.126417  0.751396  1.622253 -0.608438   \n",
       "1           1  0.522509  0.800588  1.130733  0.638843  0.942452 -0.160658   \n",
       "2           2  0.610486 -0.116406  0.537865  1.196408  0.852673  0.506885   \n",
       "3           3  0.082561 -0.785761  1.779882 -0.713555  3.006020 -1.254973   \n",
       "4           4  0.825421  0.098039 -0.328691  1.031062  0.139982  0.454129   \n",
       "\n",
       "          6         7         8         9  \n",
       "0 -0.044094 -0.098294  0.465360  0.872339  \n",
       "1  2.128617  0.127798 -1.001711  1.575629  \n",
       "2  1.842118 -0.023128 -0.471656  1.095743  \n",
       "3 -0.221439  1.573590  0.920522  1.054295  \n",
       "4  1.460246 -1.331873 -0.646779  1.745628  "
      ]
     },
     "execution_count": 9,
     "metadata": {},
     "output_type": "execute_result"
    }
   ],
   "source": [
    "#Splitting to take the first 10 features only\n",
    "testSet = test.iloc[:,:11]\n",
    "testSet.head()"
   ]
  },
  {
   "cell_type": "code",
   "execution_count": 10,
   "metadata": {
    "collapsed": false
   },
   "outputs": [
    {
     "data": {
      "text/plain": [
       "array(['bus', 'busystreet', 'office', 'openairmarket', 'park',\n",
       "       'quietstreet', 'restaurant', 'supermarket', 'tube', 'tubestation'], dtype=object)"
      ]
     },
     "execution_count": 10,
     "metadata": {},
     "output_type": "execute_result"
    }
   ],
   "source": [
    "#Not required, just getting the names\n",
    "\n",
    "test.scenes.unique()"
   ]
  },
  {
   "cell_type": "code",
   "execution_count": 11,
   "metadata": {
    "collapsed": false
   },
   "outputs": [
    {
     "data": {
      "text/plain": [
       "0            bus\n",
       "1            bus\n",
       "2            bus\n",
       "3            bus\n",
       "4            bus\n",
       "5            bus\n",
       "6            bus\n",
       "7            bus\n",
       "8            bus\n",
       "9            bus\n",
       "10    busystreet\n",
       "11    busystreet\n",
       "12    busystreet\n",
       "13    busystreet\n",
       "14    busystreet\n",
       "Name: scenes, dtype: object"
      ]
     },
     "execution_count": 11,
     "metadata": {},
     "output_type": "execute_result"
    }
   ],
   "source": [
    "# Getting the corresponding Y scenes(text)\n",
    "\n",
    "Y_labelsT = test.scenes\n",
    "Y_labelsT[:15]"
   ]
  },
  {
   "cell_type": "code",
   "execution_count": 12,
   "metadata": {
    "collapsed": false
   },
   "outputs": [
    {
     "name": "stdout",
     "output_type": "stream",
     "text": [
      "0     6\n",
      "1     6\n",
      "2     6\n",
      "3     6\n",
      "4     6\n",
      "5     6\n",
      "6     6\n",
      "7     6\n",
      "8     6\n",
      "9     6\n",
      "10    3\n",
      "11    3\n",
      "12    3\n",
      "13    3\n",
      "14    3\n",
      "15    3\n",
      "16    3\n",
      "17    3\n",
      "18    3\n",
      "19    3\n",
      "Name: scenes, dtype: int64\n"
     ]
    },
    {
     "name": "stderr",
     "output_type": "stream",
     "text": [
      "c:\\Users\\ManushiM\\Anaconda\\lib\\site-packages\\ipykernel\\__main__.py:9: SettingWithCopyWarning: \n",
      "A value is trying to be set on a copy of a slice from a DataFrame\n",
      "\n",
      "See the caveats in the documentation: http://pandas.pydata.org/pandas-docs/stable/indexing.html#indexing-view-versus-copy\n"
     ]
    }
   ],
   "source": [
    "#Creating the labels based on what we have defined\n",
    "\n",
    "Y_test = Y_labelsT\n",
    "\n",
    "#Calling the function\n",
    "manageLabels(Y_labelsT, Y_test)\n",
    "\n",
    "#converting type of new series to int\n",
    "Y_test = Y_test.astype('int64')    \n",
    "print Y_test[:20]"
   ]
  },
  {
   "cell_type": "markdown",
   "metadata": {},
   "source": [
    "### Training the model"
   ]
  },
  {
   "cell_type": "code",
   "execution_count": 13,
   "metadata": {
    "collapsed": false
   },
   "outputs": [
    {
     "name": "stdout",
     "output_type": "stream",
     "text": [
      "We successfully predict 100 percent of data using linear kernel for the test data\n",
      "We successfully predict 100 percent of data using poly kernel for the test data\n",
      "We successfully predict 100 percent of data using rbf kernel for the test data\n"
     ]
    }
   ],
   "source": [
    "# Train the model (Poly with degree=2)\n",
    "for kernel in ('linear', 'poly', 'rbf'):\n",
    "    clf = svm.SVC(kernel=kernel, C=0.7, degree=2)\n",
    "    clf.fit(trainSet, Y_train)\n",
    "    print \"We successfully predict {0} percent of data using {1} kernel for the test data\".format(100-abs(clf.predict(trainSet)-Y_train).sum()/len(Y_train), kernel)"
   ]
  },
  {
   "cell_type": "markdown",
   "metadata": {},
   "source": [
    "### Testing the model"
   ]
  },
  {
   "cell_type": "code",
   "execution_count": 14,
   "metadata": {
    "collapsed": false
   },
   "outputs": [
    {
     "name": "stdout",
     "output_type": "stream",
     "text": [
      "We successfully predict 85.0 percent of data using linear kernel for the training data\n",
      "We successfully predict 93.0 percent of data using poly kernel for the training data\n",
      "We successfully predict 97.0 percent of data using rbf kernel for the training data\n"
     ]
    }
   ],
   "source": [
    "#Fit the model (Poly with degree=2, C=0.5)\n",
    "for kernel in ('linear', 'poly', 'rbf'):\n",
    "    clf = svm.SVC(kernel=kernel, C=0.5, degree=2)\n",
    "    clf.fit(testSet, Y_test)\n",
    "    correct=1.0*(clf.predict(testSet)==np.asarray(Y_test)).sum()/len(Y_test)\n",
    "    print \"We successfully predict {0} percent of data using {1} kernel for the training data\".format((correct)*100, kernel)"
   ]
  },
  {
   "cell_type": "code",
   "execution_count": 15,
   "metadata": {
    "collapsed": false
   },
   "outputs": [
    {
     "name": "stdout",
     "output_type": "stream",
     "text": [
      "We successfully predict 86.0 percent of data using linear kernel for the training data\n",
      "We successfully predict 93.0 percent of data using poly kernel for the training data\n",
      "We successfully predict 99.0 percent of data using rbf kernel for the training data\n"
     ]
    }
   ],
   "source": [
    "#Fit the model (Poly with degree=2, C=0.6)\n",
    "for kernel in ('linear', 'poly', 'rbf'):\n",
    "    clf = svm.SVC(kernel=kernel, C=0.6, degree=2)\n",
    "    clf.fit(testSet, Y_test)\n",
    "    correct=1.0*(clf.predict(testSet)==np.asarray(Y_test)).sum()/len(Y_test)\n",
    "    print \"We successfully predict {0} percent of data using {1} kernel for the training data\".format((correct)*100, kernel)"
   ]
  },
  {
   "cell_type": "code",
   "execution_count": 16,
   "metadata": {
    "collapsed": false
   },
   "outputs": [
    {
     "name": "stdout",
     "output_type": "stream",
     "text": [
      "We successfully predict 87.0 percent of data using linear kernel for the training data\n",
      "We successfully predict 93.0 percent of data using poly kernel for the training data\n",
      "We successfully predict 100.0 percent of data using rbf kernel for the training data\n"
     ]
    }
   ],
   "source": [
    "#Fit the model (Poly with degree=2, C=0.7)\n",
    "for kernel in ('linear', 'poly', 'rbf'):\n",
    "    clf = svm.SVC(kernel=kernel, C=0.7, degree=2)\n",
    "    clf.fit(testSet, Y_test)\n",
    "    correct=1.0*(clf.predict(testSet)==np.asarray(Y_test)).sum()/len(Y_test)\n",
    "    print \"We successfully predict {0} percent of data using {1} kernel for the training data\".format((correct)*100, kernel)"
   ]
  },
  {
   "cell_type": "markdown",
   "metadata": {},
   "source": [
    "### Explanation"
   ]
  },
  {
   "cell_type": "markdown",
   "metadata": {},
   "source": [
    "\n",
    "SVM is a supervised machine learning algorithm which can be used for classification or regression problems. It uses a technique called the kernel trick to transform data and then based on these transformations it finds an optimal boundary between the possible outputs. \n",
    "A Support Vector Machine (SVM) is a discriminative classifier formally defined by a separating hyperplane. In other words, given labeled training data (supervised learning), the algorithm outputs an optimal hyperplane which categorizes new examples.\n",
    "\n",
    "\n",
    "Here we use our labeled data to select based on 5 categories, relevant to popularly found scenes. The selected scenes are 'tubestation' (subway stations), 'quietstreet', 'busystreet', 'restaurant', 'openairmarket' (open air market or farmer's market. Data belonging to the rest of the categories are combined together to form a singular class named 'unknown'. These categories are then assigned numerical values. The parameters tweaked in the model are explained as follows.\n",
    "\n",
    "\n",
    "C represents soft margin constant. Softness in margins (a low value) allows for errors to be made while fitting the model to the training data set. Conversely, hard margins will result in fitting of a model that allows zero errors. Sometimes it can be helpful to allow for errors in the training set, because it may produce a more generalizable model when applied to new datasets. Forcing rigid margins though can result in a model that performs perfectly in the training set, but is possibly over-fit/less generalizable when applied to a new dataset. C acts as a penalty parameter. If it is too large, we have a high penalty for nonseparable points and we may store many support vectors and overfit. If it is too small, we may have underfitting. Hence, we consider C = 0.6.\n",
    "\n",
    "\n",
    "Higher degree polynomial kernels allow a more flexible decision boundary, alhough in this case it could suggest overfitting of data. Hence we consider polynomial degree to be 2, making it quadratic.\n",
    " "
   ]
  },
  {
   "cell_type": "code",
   "execution_count": null,
   "metadata": {
    "collapsed": true
   },
   "outputs": [],
   "source": []
  }
 ],
 "metadata": {
  "kernelspec": {
   "display_name": "Python 2",
   "language": "python",
   "name": "python2"
  },
  "language_info": {
   "codemirror_mode": {
    "name": "ipython",
    "version": 2
   },
   "file_extension": ".py",
   "mimetype": "text/x-python",
   "name": "python",
   "nbconvert_exporter": "python",
   "pygments_lexer": "ipython2",
   "version": "2.7.11"
  }
 },
 "nbformat": 4,
 "nbformat_minor": 0
}
